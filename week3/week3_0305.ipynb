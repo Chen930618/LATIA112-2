{
  "nbformat": 4,
  "nbformat_minor": 0,
  "metadata": {
    "colab": {
      "provenance": [],
      "collapsed_sections": [
        "bX5p1tgOSu1i",
        "Fg_f-NzNSKiU",
        "wKevo1U1TOn2",
        "cwKsmmdNXKwL",
        "7WkoovplBeaz",
        "h3ujPC6KCLxI",
        "DAvYMOFLCtRn"
      ]
    },
    "kernelspec": {
      "name": "python3",
      "display_name": "Python 3"
    },
    "language_info": {
      "name": "python"
    }
  },
  "cells": [
    {
      "cell_type": "markdown",
      "source": [
        "from google colab import files #匯入套件\n",
        "\n",
        "import pandas as pd\n",
        "\n",
        "upload = files.upload() #開啟上傳介面並載入\n",
        "\n",
        "data = pd.read_csv(\"剛剛上傳的檔案名稱\")"
      ],
      "metadata": {
        "id": "iaUICnvVBX5N"
      }
    },
    {
      "cell_type": "code",
      "execution_count": 1,
      "metadata": {
        "id": "nrJeVAasiBPQ",
        "outputId": "70ba82bc-b508-4ca5-8ca5-fb54dcb969a6",
        "colab": {
          "base_uri": "https://localhost:8080/"
        }
      },
      "outputs": [
        {
          "output_type": "stream",
          "name": "stdout",
          "text": [
            "Mounted at /content/gdrive/\n",
            "total 204\n",
            "-r-------- 1 root root  92484 Feb 26 03:15  112_student.csv\n",
            "-rw------- 1 root root    182 Mar 19 05:00 '112_students_tf (1).gsheet'\n",
            "-rw------- 1 root root 112595 Mar 12 06:26  112_students_tf.csv\n",
            "-rw------- 1 root root    182 Mar 19 05:04  112_students_tf.gsheet\n",
            "-rw------- 1 root root   1404 Apr 12  2023  2-2各級學校數按區域及縣市分.csv\n",
            "-rw------- 1 root root    182 Mar  5 06:38  e2.gsheet\n",
            "-rw------- 1 root root    182 Mar  5 06:38  t1.gdoc\n"
          ]
        }
      ],
      "source": [
        "from google.colab import drive\n",
        "drive.mount('/content/gdrive/', force_remount=True)\n",
        "\n",
        "import os\n",
        "os.chdir(\"/content/gdrive/My Drive/COMPUTER_CLASS/WEEK3/\") # 切換目錄\n",
        "!ls -l \"/content/gdrive/My Drive/COMPUTER_CLASS/WEEK3/\" # 列出目錄下的檔案\n"
      ]
    },
    {
      "cell_type": "code",
      "source": [
        "import pandas as pd\n",
        "\n",
        "csv_file = './112_student.csv'\n",
        "csv_file =\"./112_student.csv\"\n",
        "\n",
        "#columns = [\n",
        "#    \"學年度\",\"學校代碼\",\"學校名稱\",\"日間∕進修別\",\"等級別\",\"總計\",\"男生計\",\n",
        "#    \"女生計\",\"一年級男\",\"一年級女\",\"二年級男\",\"二年級女\",\"三年級男\",\"三年級女\",\n",
        "#    \"四年級男\",\"四年級女\",\"五年級男\",\"五年級女\",\"六年級男\",\"六年級女\",\n",
        "#    \"七年級男\",\"七年級女\",\"延修生男\",\"延修生女\",\"縣市名稱\",\"體系別\"\n",
        "#]\n",
        "df = pd.read_csv(csv_file)\n",
        "print(df.head())\n",
        "\n",
        "#查看資料欄位資訊\n",
        "print(df.info())\n",
        "\n",
        "#查看資料的統計學資訊描述\n",
        "print(df.describe(include='all'))"
      ],
      "metadata": {
        "id": "hth5CL3clOs2",
        "colab": {
          "base_uri": "https://localhost:8080/"
        },
        "outputId": "039bd28e-9ce5-49b3-fd9c-29d86e7175f4"
      },
      "execution_count": 2,
      "outputs": [
        {
          "output_type": "stream",
          "name": "stdout",
          "text": [
            "   學年度  學校代碼    學校名稱 日間∕進修別   等級別    總計   男生計   女生計  一年級男  一年級女  ...  五年級男  \\\n",
            "0  112     1  國立政治大學    D 日  D 博士   921   517   404    86    69  ...    63   \n",
            "1  112     1  國立政治大學    D 日  M 碩士  4231  1835  2396   598   809  ...     2   \n",
            "2  112     1  國立政治大學    N 職  M 碩士  1903   938   965   262   304  ...    77   \n",
            "3  112     1  國立政治大學    D 日  B 學士  9763  3928  5835   906  1349  ...     0   \n",
            "4  112     2  國立清華大學    D 日  D 博士  1636  1131   505   206    93  ...   140   \n",
            "\n",
            "   五年級女  六年級男  六年級女  七年級男  七年級女  延修生男  延修生女    縣市名稱   體系別  \n",
            "0    52    68    37    66    50     0     0  30 臺北市  1 一般  \n",
            "1     1     1     0     0     0     0     0  30 臺北市  1 一般  \n",
            "2    57     0     0     0     0     0     0  30 臺北市  1 一般  \n",
            "3     0     0     0     0     0   316   499  30 臺北市  1 一般  \n",
            "4    60   110    50   115    56     0     0  18 新竹市  1 一般  \n",
            "\n",
            "[5 rows x 26 columns]\n",
            "<class 'pandas.core.frame.DataFrame'>\n",
            "RangeIndex: 764 entries, 0 to 763\n",
            "Data columns (total 26 columns):\n",
            " #   Column  Non-Null Count  Dtype \n",
            "---  ------  --------------  ----- \n",
            " 0   學年度     764 non-null    int64 \n",
            " 1   學校代碼    764 non-null    int64 \n",
            " 2   學校名稱    764 non-null    object\n",
            " 3   日間∕進修別  764 non-null    object\n",
            " 4   等級別     764 non-null    object\n",
            " 5   總計      764 non-null    int64 \n",
            " 6   男生計     764 non-null    int64 \n",
            " 7   女生計     764 non-null    int64 \n",
            " 8   一年級男    764 non-null    int64 \n",
            " 9   一年級女    764 non-null    int64 \n",
            " 10  二年級男    764 non-null    int64 \n",
            " 11  二年級女    764 non-null    int64 \n",
            " 12  三年級男    764 non-null    int64 \n",
            " 13  三年級女    764 non-null    int64 \n",
            " 14  四年級男    764 non-null    int64 \n",
            " 15  四年級女    764 non-null    int64 \n",
            " 16  五年級男    764 non-null    int64 \n",
            " 17  五年級女    764 non-null    int64 \n",
            " 18  六年級男    764 non-null    int64 \n",
            " 19  六年級女    764 non-null    int64 \n",
            " 20  七年級男    764 non-null    int64 \n",
            " 21  七年級女    764 non-null    int64 \n",
            " 22  延修生男    764 non-null    int64 \n",
            " 23  延修生女    764 non-null    int64 \n",
            " 24  縣市名稱    764 non-null    object\n",
            " 25  體系別     764 non-null    object\n",
            "dtypes: int64(21), object(5)\n",
            "memory usage: 155.3+ KB\n",
            "None\n",
            "          學年度         學校代碼    學校名稱 日間∕進修別   等級別            總計           男生計  \\\n",
            "count   764.0   764.000000     764    764   764    764.000000    764.000000   \n",
            "unique    NaN          NaN     145      4    10           NaN           NaN   \n",
            "top       NaN          NaN  弘光科技大學    D 日  M 碩士           NaN           NaN   \n",
            "freq      NaN          NaN      10    448   249           NaN           NaN   \n",
            "mean    112.0   756.200262     NaN    NaN   NaN   1433.022251    708.655759   \n",
            "std       0.0   504.152506     NaN    NaN   NaN   2633.932756   1385.170171   \n",
            "min     112.0     1.000000     NaN    NaN   NaN      1.000000      0.000000   \n",
            "25%     112.0    48.000000     NaN    NaN   NaN    103.750000     43.750000   \n",
            "50%     112.0  1029.000000     NaN    NaN   NaN    373.500000    180.000000   \n",
            "75%     112.0  1060.000000     NaN    NaN   NaN   1387.500000    590.500000   \n",
            "max     112.0  3002.000000     NaN    NaN   NaN  19466.000000  10885.000000   \n",
            "\n",
            "                 女生計         一年級男         一年級女  ...        五年級男        五年級女  \\\n",
            "count     764.000000   764.000000   764.000000  ...  764.000000  764.000000   \n",
            "unique           NaN          NaN          NaN  ...         NaN         NaN   \n",
            "top              NaN          NaN          NaN  ...         NaN         NaN   \n",
            "freq             NaN          NaN          NaN  ...         NaN         NaN   \n",
            "mean      724.366492   177.971204   173.545812  ...   11.871728   20.469895   \n",
            "std      1348.848241   349.047086   321.080379  ...   32.233288   81.117153   \n",
            "min         0.000000     0.000000     0.000000  ...    0.000000    0.000000   \n",
            "25%        50.000000     5.000000     4.000000  ...    0.000000    0.000000   \n",
            "50%       166.000000    41.000000    37.000000  ...    0.000000    0.000000   \n",
            "75%       718.500000   161.250000   188.250000  ...    6.000000    6.000000   \n",
            "max     10716.000000  2709.000000  2519.000000  ...  309.000000  897.000000   \n",
            "\n",
            "              六年級男        六年級女        七年級男        七年級女         延修生男  \\\n",
            "count   764.000000  764.000000  764.000000  764.000000   764.000000   \n",
            "unique         NaN         NaN         NaN         NaN          NaN   \n",
            "top            NaN         NaN         NaN         NaN          NaN   \n",
            "freq           NaN         NaN         NaN         NaN          NaN   \n",
            "mean      4.810209    3.615183    2.955497    1.742147    36.647906   \n",
            "std      19.818557   13.204157   17.768959    8.937397    98.370926   \n",
            "min       0.000000    0.000000    0.000000    0.000000     0.000000   \n",
            "25%       0.000000    0.000000    0.000000    0.000000     0.000000   \n",
            "50%       0.000000    0.000000    0.000000    0.000000     0.000000   \n",
            "75%       0.000000    0.000000    0.000000    0.000000    21.000000   \n",
            "max     179.000000  125.000000  312.000000  132.000000  1448.000000   \n",
            "\n",
            "               延修生女    縣市名稱   體系別  \n",
            "count    764.000000     764   764  \n",
            "unique          NaN      24     3  \n",
            "top             NaN  30 臺北市  2 技職  \n",
            "freq            NaN     120   468  \n",
            "mean      27.591623     NaN   NaN  \n",
            "std       74.731977     NaN   NaN  \n",
            "min        0.000000     NaN   NaN  \n",
            "25%        0.000000     NaN   NaN  \n",
            "50%        0.000000     NaN   NaN  \n",
            "75%       18.250000     NaN   NaN  \n",
            "max     1107.000000     NaN   NaN  \n",
            "\n",
            "[11 rows x 26 columns]\n"
          ]
        }
      ]
    },
    {
      "cell_type": "markdown",
      "source": [
        "# 1.哪間大專院校有最多的學士生\n",
        "\n",
        "step1: 取出想要查看的欄位，並印出此資料集共有多少筆紀錄 (len)\n",
        "\n",
        "step2: 篩選等級別為\"B 學士\"的DataFrame，並印出有招生學士學制的學校數量\n",
        "\n",
        "step3: 依據\"總計\"從大到小排序並印出結果 (sort_values, by, ascending)"
      ],
      "metadata": {
        "id": "bX5p1tgOSu1i"
      }
    },
    {
      "cell_type": "code",
      "source": [
        "# 請在\"填空\"處，輸入所需要的指令或參數\n",
        "\n",
        "df1 = df[['等級別']] # 取出想要觀看的欄位\n",
        "print(f\"本資料集共有\" ,{len(df1)}, \"筆紀錄\")\n",
        "\n",
        "df1_1 = df1[df1['等級別'] == 'B 學士']\n",
        "print(f\"有招生學士學制的學校數量為\",{len(df1_1)}, \"\\n\")\n",
        "df1_1_sorted = df.sort_values(by='總計', ascending = False)\n",
        "print(\"112學年度在籍的學士生最多人數之學校為\", df1_1_sorted.head(1)['學校名稱'].values)"
      ],
      "metadata": {
        "id": "D9AfvfU-Szu7",
        "colab": {
          "base_uri": "https://localhost:8080/"
        },
        "outputId": "4516eacc-c511-4642-830e-edd7535e1869"
      },
      "execution_count": 3,
      "outputs": [
        {
          "output_type": "stream",
          "name": "stdout",
          "text": [
            "本資料集共有 {764} 筆紀錄\n",
            "有招生學士學制的學校數量為 {97} \n",
            "\n",
            "112學年度在籍的學士生最多人數之學校為 ['淡江大學']\n"
          ]
        }
      ]
    },
    {
      "cell_type": "markdown",
      "source": [
        "# 2. 國立？所；私立？所\n",
        "\n",
        "step1: 建立空字串 (lsit=[])\n",
        "\n",
        "step2: 建立for迴圈，配合if else條件，取出國立與私立\n",
        "\n",
        "step3: 新增「公私立」column在DataFrame中 (df['公私立'])\n",
        "\n",
        "step4: 篩選掉重複的學校代碼資料 (drop_duplicates)\n",
        "\n",
        "step5: 計算公立與私立學校的筆數，並印出結果 (value_counts)"
      ],
      "metadata": {
        "id": "IzqRi2WyRZFh"
      }
    },
    {
      "cell_type": "code",
      "source": [
        "type_list = [] # 建立空字串\n",
        "\n",
        "for i in df['學校名稱']:\n",
        "    if ('國立' in i) or ('市立' in i):\n",
        "        type_list.append('國立')\n",
        "    else:\n",
        "        type_list.append('私立')\n",
        "\n",
        "df['公私立'] = type_list # 將 Dataframe 新增「公私立」column\n",
        "df2 = df.drop_duplicates('學校代碼')\n",
        "count = df2['公私立'].value_counts()\n",
        "\n",
        "print(f\"本資料集共收集了{len(df2)} 所學校，其中公立：{count['國立']} 所；私立：{count['私立']}所。\")"
      ],
      "metadata": {
        "id": "eMbiigpnRbdl",
        "colab": {
          "base_uri": "https://localhost:8080/"
        },
        "outputId": "c0af2613-bc9c-4551-e21a-5d66ca415237"
      },
      "execution_count": 4,
      "outputs": [
        {
          "output_type": "stream",
          "name": "stdout",
          "text": [
            "本資料集共收集了145 所學校，其中公立：47 所；私立：98所。\n"
          ]
        }
      ]
    },
    {
      "cell_type": "markdown",
      "source": [
        "# 3. 各等級別學制共有？所\n",
        "\n",
        "step1: 篩選掉重複的學校名稱與等級別 (drop_duplicates, subset)\n",
        "\n",
        "step2: 計算出等級別的筆數 (value_counts)\n",
        "\n",
        "step3: 建立等級別的字串，並找出其類別 (unique)\n",
        "\n",
        "step4: 使用for迴圈，依序列出所有等級別學制的學校數量 (count)"
      ],
      "metadata": {
        "id": "Fg_f-NzNSKiU"
      }
    },
    {
      "cell_type": "code",
      "source": [
        "df3 = df.drop_duplicates(subset=['學校名稱','等級別'])\n",
        "count = df3['等級別'].value_counts()\n",
        "degree_list = list(df['等級別'].unique())\n",
        "\n",
        "print(f\"本資料集總共收集了 {len(set(df['學校代碼']))} 所學校，各等級學制當中：\")\n",
        "for degree in degree_list:\n",
        "    print(f\"一共有{count[degree]} 所學校， 有招收{degree[2:]}。\")"
      ],
      "metadata": {
        "id": "FuhQKQqRSLOc",
        "colab": {
          "base_uri": "https://localhost:8080/"
        },
        "outputId": "8cc9e19f-7e10-4b13-c165-0639b4b7abc5"
      },
      "execution_count": 5,
      "outputs": [
        {
          "output_type": "stream",
          "name": "stdout",
          "text": [
            "本資料集總共收集了 145 所學校，各等級學制當中：\n",
            "一共有84 所學校， 有招收博士。\n",
            "一共有130 所學校， 有招收碩士。\n",
            "一共有67 所學校， 有招收學士。\n",
            "一共有1 所學校， 有招收4+X。\n",
            "一共有71 所學校， 有招收二技。\n",
            "一共有66 所學校， 有招收四技。\n",
            "一共有46 所學校， 有招收五專。\n",
            "一共有2 所學校， 有招收七年。\n",
            "一共有46 所學校， 有招收二專。\n",
            "一共有1 所學校， 有招收二年制。\n"
          ]
        }
      ]
    },
    {
      "cell_type": "markdown",
      "source": [
        "# 4. 各縣市分別有？所，位於新北市的大專院校總共有幾所"
      ],
      "metadata": {
        "id": "wKevo1U1TOn2"
      }
    },
    {
      "cell_type": "code",
      "source": [
        "site_list=[]\n",
        "\n",
        "for i in df['縣市名稱']:\n",
        "  site_list.append(i[3:])\n",
        "df['縣市']=site_list\n",
        "df4 = df.drop_duplicates('學校代碼')\n",
        "\n",
        "count = df4['縣市'].value_counts()\n",
        "site_list = df['縣市'].unique()\n",
        "print(f\"本資料集總共收集了 {len(df4)} 所學校，其中：\")\n",
        "for site in site_list:\n",
        "    print(f\"{site}一共有{count[site]} 所學校\")\n",
        "city=df4[df4['縣市']=='新北市']\n",
        "print('\\n',city['縣市'].value_counts())"
      ],
      "metadata": {
        "id": "kTfp6k2ATPPI",
        "colab": {
          "base_uri": "https://localhost:8080/"
        },
        "outputId": "f1f4e847-cd8b-4ed7-c006-d32deb1a7f32"
      },
      "execution_count": 6,
      "outputs": [
        {
          "output_type": "stream",
          "name": "stdout",
          "text": [
            "本資料集總共收集了 145 所學校，其中：\n",
            "臺北市一共有24 所學校\n",
            "新竹市一共有5 所學校\n",
            "臺南市一共有13 所學校\n",
            "臺中市一共有17 所學校\n",
            "桃園市一共有12 所學校\n",
            "高雄市一共有15 所學校\n",
            "基隆市一共有3 所學校\n",
            "嘉義縣一共有4 所學校\n",
            "彰化縣一共有4 所學校\n",
            "新北市一共有20 所學校\n",
            "嘉義市一共有2 所學校\n",
            "花蓮縣一共有4 所學校\n",
            "南投縣一共有2 所學校\n",
            "雲林縣一共有3 所學校\n",
            "屏東縣一共有5 所學校\n",
            "臺東縣一共有2 所學校\n",
            "宜蘭縣一共有3 所學校\n",
            "苗栗縣一共有3 所學校\n",
            "澎湖縣一共有1 所學校\n",
            "金門縣一共有1 所學校\n",
            "新竹縣一共有2 所學校\n",
            "\n",
            " 新北市    20\n",
            "Name: 縣市, dtype: int64\n"
          ]
        }
      ]
    },
    {
      "cell_type": "markdown",
      "source": [
        "# 5. 北中南東區分別有？所\n",
        "\n",
        "都市及區域發展統計彙編 - 國發會 https://www.ndc.gov.tw/nc_77_4402"
      ],
      "metadata": {
        "id": "cwKsmmdNXKwL"
      }
    },
    {
      "cell_type": "markdown",
      "source": [
        "北部區域：包括臺北市、新北市、基隆市、新竹市、桃園市、新竹縣及宜蘭縣。\n",
        "\n",
        "中部區域：包括臺中市、苗栗縣、彰化縣、南投縣及雲林縣。\n",
        "\n",
        "南部區域：包括高雄市、臺南市、嘉義市、嘉義縣、屏東縣及澎湖縣。\n",
        "\n",
        "東部區域：包括花蓮縣及臺東縣。\n",
        "\n",
        "福建省：包括金門縣與連江縣。"
      ],
      "metadata": {
        "id": "nc8jGnGW_joN"
      }
    },
    {
      "cell_type": "code",
      "source": [
        "site_to_area={'臺北市':'北部','新北市':'北部','基隆市':'北部','新竹市':'北部','桃園市':'北部',\n",
        "          '新竹縣':'北部','宜蘭縣':'北部','臺中市':'中部','苗栗縣':'中部','彰化縣':'中部',\n",
        "          '南投縣':'中部','雲林縣':'中部','高雄市':'南部','臺南市':'南部','嘉義市':'南部',\n",
        "          '嘉義縣':'南部','屏東縣':'南部','澎湖縣':'南部','花蓮縣':'東部','臺東縣':'東部',\n",
        "          '金門縣':'福建省'}\n",
        "df['區'] = df['縣市'].map(site_to_area)\n",
        "\n",
        "df5 = df.drop_duplicates('學校代碼')\n",
        "count = df5['區'].value_counts()\n",
        "print(f\"此資料共有{len(df5)}所，其中:\")\n",
        "print(f\"北部有{count['北部']}所;\\n中部有{count['中部']}所;\\n南部有{count['南部']}所;\\n東部有{count['東部']}所;\\n福建省有{count['福建省']}所\")"
      ],
      "metadata": {
        "id": "RDgJ5YoAx92d",
        "colab": {
          "base_uri": "https://localhost:8080/"
        },
        "outputId": "162c78c3-331b-4bc0-f2bb-0165751717f1"
      },
      "execution_count": 7,
      "outputs": [
        {
          "output_type": "stream",
          "name": "stdout",
          "text": [
            "此資料共有145所，其中:\n",
            "北部有69所;\n",
            "中部有29所;\n",
            "南部有40所;\n",
            "東部有6所;\n",
            "福建省有1所\n"
          ]
        }
      ]
    },
    {
      "cell_type": "code",
      "source": [],
      "metadata": {
        "id": "a7uWK27g4LRR"
      },
      "execution_count": 7,
      "outputs": []
    },
    {
      "cell_type": "markdown",
      "source": [
        "# 6. 各體系別分別有？所"
      ],
      "metadata": {
        "id": "7WkoovplBeaz"
      }
    },
    {
      "cell_type": "code",
      "source": [
        "df6=df.drop_duplicates('學校代碼')\n",
        "count=df6['體系別'].value_counts()\n",
        "print(f\"本資料集共收集了 {len(df6)} 所學校，其中：技職體系有 {count['2 技職']} 所；一般體系有 {count['1 一般']} 所；師範體系有 {count['3 師範']} 所。\")"
      ],
      "metadata": {
        "id": "JKMhMFVMBiBF",
        "colab": {
          "base_uri": "https://localhost:8080/"
        },
        "outputId": "f25daa5a-7a08-431e-e0d6-f1d4b207f17c"
      },
      "execution_count": 8,
      "outputs": [
        {
          "output_type": "stream",
          "name": "stdout",
          "text": [
            "本資料集共收集了 145 所學校，其中：技職體系有 78 所；一般體系有 62 所；師範體系有 5 所。\n"
          ]
        }
      ]
    },
    {
      "cell_type": "markdown",
      "source": [
        "# 7. 國立/私立與男女比\n",
        "請問國立大學與私立大學在學男生女生比例為何? 延修生男生女生比例為何?"
      ],
      "metadata": {
        "id": "h3ujPC6KCLxI"
      }
    },
    {
      "cell_type": "code",
      "source": [
        "count={}\n",
        "def create_count_dict(df,count):\n",
        "  df7 = df.drop_duplicates('學校代碼')\n",
        "  for i in df7['學校名稱']:\n",
        "        count[i] = {}\n",
        "        count[i]['在學'] = {}\n",
        "        count[i]['在學']['男生數'] = 0\n",
        "        count[i]['在學']['女生數'] = 0\n",
        "        count[i]['延修'] = {}\n",
        "        count[i]['延修']['男生數'] = 0\n",
        "        count[i]['延修']['女生數'] = 0\n",
        "\n",
        "\n",
        "def count_every_schools_data(df):\n",
        "    for j in range(len(df)):\n",
        "        count[df.iloc[j,2]]['在學']['男生數'] += (int(df.iloc[j,8]) + int(df.iloc[j,10]) + int(df.iloc[j,12]) + int(df.iloc[j,14]) + int(df.iloc[j,16]) + int(df.iloc[j,18]) + int(df.iloc[j,20]))\n",
        "        count[df.iloc[j,2]]['在學']['女生數'] += (int(df.iloc[j,9]) + int(df.iloc[j,11]) + int(df.iloc[j,13]) + int(df.iloc[j,15]) + int(df.iloc[j,17]) + int(df.iloc[j,19]) + int(df.iloc[j,21]))\n",
        "        count[df.iloc[j,2]]['延修']['男生數'] += int(df.iloc[j,22])\n",
        "        count[df.iloc[j,2]]['延修']['女生數'] += int(df.iloc[j,23])\n",
        "\n",
        "create_count_dict(df, count)\n",
        "count_every_schools_data(df)\n",
        "public_current_male = 0\n",
        "public_current_female = 0\n",
        "\n",
        "df7_1 = df.drop_duplicates('學校代碼', ignore_index=True)\n",
        "for i in range(len(df7_1)):\n",
        "    if df7_1.loc[i,'公私立'] == '國立':\n",
        "        public_current_male += count[df7_1.loc[i,'學校名稱']]['在學']['男生數']\n",
        "        public_current_female += count[df7_1.loc[i,'學校名稱']]['在學']['女生數']\n",
        "\n",
        "ratio = public_current_male/public_current_female*100\n",
        "print(f'國立大學在學生男女比：{ratio} ≑ {round(ratio,2)}')\n",
        "\n",
        "df7_2 = df.drop_duplicates('學校代碼', ignore_index=True)\n",
        "for i in range(len(df7_2)):\n",
        "    if df7_2.loc[i,'公私立'] == '私立':\n",
        "        public_current_male += count[df7_1.loc[i,'學校名稱']]['在學']['男生數']\n",
        "        public_current_female += count[df7_1.loc[i,'學校名稱']]['在學']['女生數']\n",
        "\n",
        "ratio = public_current_male/public_current_female*100\n",
        "print(f'私立大學在學生男女比：{ratio} ≑ {round(ratio,2)}')\n",
        "\n",
        "df7_3 = df.drop_duplicates('學校代碼', ignore_index=True)\n",
        "for i in range(len(df7_3)):\n",
        "    if df7_3.loc[i,'公私立'] == '國立':\n",
        "        public_current_male += count[df7_1.loc[i,'學校名稱']]['延修']['男生數']\n",
        "        public_current_female += count[df7_1.loc[i,'學校名稱']]['延修']['女生數']\n",
        "\n",
        "ratio = public_current_male/public_current_female*100\n",
        "print(f'國立大學延修生男女比：{ratio} ≑ {round(ratio,2)}')\n",
        "\n",
        "df7_4 = df.drop_duplicates('學校代碼', ignore_index=True)\n",
        "for i in range(len(df7_4)):\n",
        "    if df7_4.loc[i,'公私立'] == '私立':\n",
        "        public_current_male += count[df7_1.loc[i,'學校名稱']]['延修']['男生數']\n",
        "        public_current_female += count[df7_1.loc[i,'學校名稱']]['延修']['女生數']\n",
        "\n",
        "ratio = public_current_male/public_current_female*100\n",
        "print(f'私立大學延修生男女比：{ratio} ≑ {round(ratio,2)}')"
      ],
      "metadata": {
        "id": "deMDYF5ACMU-",
        "colab": {
          "base_uri": "https://localhost:8080/"
        },
        "outputId": "06d341cb-73b1-41aa-e4ec-a3cc4f946e3d"
      },
      "execution_count": 9,
      "outputs": [
        {
          "output_type": "stream",
          "name": "stdout",
          "text": [
            "國立大學在學生男女比：119.10964038427396 ≑ 119.11\n",
            "私立大學在學生男女比：96.44547804394217 ≑ 96.45\n",
            "國立大學延修生男女比：96.9910906275184 ≑ 96.99\n",
            "私立大學延修生男女比：97.83110715989419 ≑ 97.83\n"
          ]
        }
      ]
    },
    {
      "cell_type": "markdown",
      "source": [
        "# 8. 國立大學在學生男女比"
      ],
      "metadata": {
        "id": "DAvYMOFLCtRn"
      }
    },
    {
      "cell_type": "code",
      "source": [
        "create_count_dict(df, count)\n",
        "count_every_schools_data(df)\n",
        "public_current_male = 0\n",
        "public_current_female = 0\n",
        "df7_1 = df.drop_duplicates('學校代碼', ignore_index=True)\n",
        "for i in range(len(df7_1)):\n",
        "    if df7_1.loc[i,'公私立'] == '國立':\n",
        "        public_current_male += count[df7_1.loc[i,'學校名稱']]['在學']['男生數']\n",
        "        public_current_female += count[df7_1.loc[i,'學校名稱']]['在學']['女生數']\n",
        "\n",
        "ratio = public_current_male/public_current_female*100\n",
        "print(f'國立大學在學生男女比：{ratio} ≑ {round(ratio,2)}')"
      ],
      "metadata": {
        "id": "dYAEBiC7Co8B",
        "colab": {
          "base_uri": "https://localhost:8080/"
        },
        "outputId": "3885986d-9e8c-4ae0-a261-824dd0eab8d5"
      },
      "execution_count": 10,
      "outputs": [
        {
          "output_type": "stream",
          "name": "stdout",
          "text": [
            "國立大學在學生男女比：119.10964038427396 ≑ 119.11\n"
          ]
        }
      ]
    },
    {
      "cell_type": "markdown",
      "source": [
        " # 9. 每校平均最多與最少人的體系"
      ],
      "metadata": {
        "id": "zWIyQ01LXGo_"
      }
    },
    {
      "cell_type": "code",
      "source": [
        "df8 = df.drop_duplicates('學校代碼')\n",
        "system_count = df8['體系別'].value_counts()\n",
        "\n",
        "system_list = list(df['體系別'].unique())\n",
        "count_student = 0\n",
        "result_dict = {}\n",
        "\n",
        "for system in system_list:\n",
        "    for i in range(len(df)):\n",
        "        if df.loc[i,'體系別'] == system:\n",
        "            count_student += int(df.loc[i, '總計'])\n",
        "    result_dict[system[2:]] = count_student/system_count[system]\n",
        "    count_student = 0\n",
        "\n",
        "max_value = max(result_dict.values())\n",
        "min_value = min(result_dict.values())\n",
        "max_key = next(key for key, value in result_dict.items() if value == max_value)\n",
        "min_key = next(key for key, value in result_dict.items() if value == min_value)\n",
        "\n",
        "print(f\"每校平均最多人的是{max_key}體系，平均每校 {round(max_value,2)} 人；\")\n",
        "print(f\"每校平均最少人的是{min_key}體系，平均每校 {round(min_value,2)} 人。\")"
      ],
      "metadata": {
        "id": "uSHT2gbiXIW8",
        "colab": {
          "base_uri": "https://localhost:8080/"
        },
        "outputId": "d2337a4e-0c3e-444b-bb93-77885eae7af6"
      },
      "execution_count": 11,
      "outputs": [
        {
          "output_type": "stream",
          "name": "stdout",
          "text": [
            "每校平均最多人的是一般體系，平均每校 9224.89 人；\n",
            "每校平均最少人的是技職體系，平均每校 6143.56 人。\n"
          ]
        }
      ]
    },
    {
      "cell_type": "markdown",
      "source": [
        "# 10. 將新增的欄位寫入並儲存成新的CSV檔案，並命名為112_students_tf.csv\n",
        "\n",
        "新增的欄位有\"公私立\"，\"縣市名\"，\"區域\""
      ],
      "metadata": {
        "id": "KIx0QtssywfA"
      }
    },
    {
      "cell_type": "code",
      "source": [
        "df.head(2)\n",
        "#df.to_csv('112_students_tf.csv', encoding='utf-8', sep=',')"
      ],
      "metadata": {
        "colab": {
          "base_uri": "https://localhost:8080/",
          "height": 193
        },
        "id": "eZSaGxizs1VM",
        "outputId": "d44885e9-39c7-434c-a49b-9ffab32dbab7"
      },
      "execution_count": 12,
      "outputs": [
        {
          "output_type": "execute_result",
          "data": {
            "text/plain": [
              "   學年度  學校代碼    學校名稱 日間∕進修別   等級別    總計   男生計   女生計  一年級男  一年級女  ...  六年級女  \\\n",
              "0  112     1  國立政治大學    D 日  D 博士   921   517   404    86    69  ...    37   \n",
              "1  112     1  國立政治大學    D 日  M 碩士  4231  1835  2396   598   809  ...     0   \n",
              "\n",
              "   七年級男  七年級女  延修生男  延修生女    縣市名稱   體系別  公私立   縣市   區  \n",
              "0    66    50     0     0  30 臺北市  1 一般   國立  臺北市  北部  \n",
              "1     0     0     0     0  30 臺北市  1 一般   國立  臺北市  北部  \n",
              "\n",
              "[2 rows x 29 columns]"
            ],
            "text/html": [
              "\n",
              "  <div id=\"df-7792ea6e-8167-4275-8cdc-f0582d93af58\" class=\"colab-df-container\">\n",
              "    <div>\n",
              "<style scoped>\n",
              "    .dataframe tbody tr th:only-of-type {\n",
              "        vertical-align: middle;\n",
              "    }\n",
              "\n",
              "    .dataframe tbody tr th {\n",
              "        vertical-align: top;\n",
              "    }\n",
              "\n",
              "    .dataframe thead th {\n",
              "        text-align: right;\n",
              "    }\n",
              "</style>\n",
              "<table border=\"1\" class=\"dataframe\">\n",
              "  <thead>\n",
              "    <tr style=\"text-align: right;\">\n",
              "      <th></th>\n",
              "      <th>學年度</th>\n",
              "      <th>學校代碼</th>\n",
              "      <th>學校名稱</th>\n",
              "      <th>日間∕進修別</th>\n",
              "      <th>等級別</th>\n",
              "      <th>總計</th>\n",
              "      <th>男生計</th>\n",
              "      <th>女生計</th>\n",
              "      <th>一年級男</th>\n",
              "      <th>一年級女</th>\n",
              "      <th>...</th>\n",
              "      <th>六年級女</th>\n",
              "      <th>七年級男</th>\n",
              "      <th>七年級女</th>\n",
              "      <th>延修生男</th>\n",
              "      <th>延修生女</th>\n",
              "      <th>縣市名稱</th>\n",
              "      <th>體系別</th>\n",
              "      <th>公私立</th>\n",
              "      <th>縣市</th>\n",
              "      <th>區</th>\n",
              "    </tr>\n",
              "  </thead>\n",
              "  <tbody>\n",
              "    <tr>\n",
              "      <th>0</th>\n",
              "      <td>112</td>\n",
              "      <td>1</td>\n",
              "      <td>國立政治大學</td>\n",
              "      <td>D 日</td>\n",
              "      <td>D 博士</td>\n",
              "      <td>921</td>\n",
              "      <td>517</td>\n",
              "      <td>404</td>\n",
              "      <td>86</td>\n",
              "      <td>69</td>\n",
              "      <td>...</td>\n",
              "      <td>37</td>\n",
              "      <td>66</td>\n",
              "      <td>50</td>\n",
              "      <td>0</td>\n",
              "      <td>0</td>\n",
              "      <td>30 臺北市</td>\n",
              "      <td>1 一般</td>\n",
              "      <td>國立</td>\n",
              "      <td>臺北市</td>\n",
              "      <td>北部</td>\n",
              "    </tr>\n",
              "    <tr>\n",
              "      <th>1</th>\n",
              "      <td>112</td>\n",
              "      <td>1</td>\n",
              "      <td>國立政治大學</td>\n",
              "      <td>D 日</td>\n",
              "      <td>M 碩士</td>\n",
              "      <td>4231</td>\n",
              "      <td>1835</td>\n",
              "      <td>2396</td>\n",
              "      <td>598</td>\n",
              "      <td>809</td>\n",
              "      <td>...</td>\n",
              "      <td>0</td>\n",
              "      <td>0</td>\n",
              "      <td>0</td>\n",
              "      <td>0</td>\n",
              "      <td>0</td>\n",
              "      <td>30 臺北市</td>\n",
              "      <td>1 一般</td>\n",
              "      <td>國立</td>\n",
              "      <td>臺北市</td>\n",
              "      <td>北部</td>\n",
              "    </tr>\n",
              "  </tbody>\n",
              "</table>\n",
              "<p>2 rows × 29 columns</p>\n",
              "</div>\n",
              "    <div class=\"colab-df-buttons\">\n",
              "\n",
              "  <div class=\"colab-df-container\">\n",
              "    <button class=\"colab-df-convert\" onclick=\"convertToInteractive('df-7792ea6e-8167-4275-8cdc-f0582d93af58')\"\n",
              "            title=\"Convert this dataframe to an interactive table.\"\n",
              "            style=\"display:none;\">\n",
              "\n",
              "  <svg xmlns=\"http://www.w3.org/2000/svg\" height=\"24px\" viewBox=\"0 -960 960 960\">\n",
              "    <path d=\"M120-120v-720h720v720H120Zm60-500h600v-160H180v160Zm220 220h160v-160H400v160Zm0 220h160v-160H400v160ZM180-400h160v-160H180v160Zm440 0h160v-160H620v160ZM180-180h160v-160H180v160Zm440 0h160v-160H620v160Z\"/>\n",
              "  </svg>\n",
              "    </button>\n",
              "\n",
              "  <style>\n",
              "    .colab-df-container {\n",
              "      display:flex;\n",
              "      gap: 12px;\n",
              "    }\n",
              "\n",
              "    .colab-df-convert {\n",
              "      background-color: #E8F0FE;\n",
              "      border: none;\n",
              "      border-radius: 50%;\n",
              "      cursor: pointer;\n",
              "      display: none;\n",
              "      fill: #1967D2;\n",
              "      height: 32px;\n",
              "      padding: 0 0 0 0;\n",
              "      width: 32px;\n",
              "    }\n",
              "\n",
              "    .colab-df-convert:hover {\n",
              "      background-color: #E2EBFA;\n",
              "      box-shadow: 0px 1px 2px rgba(60, 64, 67, 0.3), 0px 1px 3px 1px rgba(60, 64, 67, 0.15);\n",
              "      fill: #174EA6;\n",
              "    }\n",
              "\n",
              "    .colab-df-buttons div {\n",
              "      margin-bottom: 4px;\n",
              "    }\n",
              "\n",
              "    [theme=dark] .colab-df-convert {\n",
              "      background-color: #3B4455;\n",
              "      fill: #D2E3FC;\n",
              "    }\n",
              "\n",
              "    [theme=dark] .colab-df-convert:hover {\n",
              "      background-color: #434B5C;\n",
              "      box-shadow: 0px 1px 3px 1px rgba(0, 0, 0, 0.15);\n",
              "      filter: drop-shadow(0px 1px 2px rgba(0, 0, 0, 0.3));\n",
              "      fill: #FFFFFF;\n",
              "    }\n",
              "  </style>\n",
              "\n",
              "    <script>\n",
              "      const buttonEl =\n",
              "        document.querySelector('#df-7792ea6e-8167-4275-8cdc-f0582d93af58 button.colab-df-convert');\n",
              "      buttonEl.style.display =\n",
              "        google.colab.kernel.accessAllowed ? 'block' : 'none';\n",
              "\n",
              "      async function convertToInteractive(key) {\n",
              "        const element = document.querySelector('#df-7792ea6e-8167-4275-8cdc-f0582d93af58');\n",
              "        const dataTable =\n",
              "          await google.colab.kernel.invokeFunction('convertToInteractive',\n",
              "                                                    [key], {});\n",
              "        if (!dataTable) return;\n",
              "\n",
              "        const docLinkHtml = 'Like what you see? Visit the ' +\n",
              "          '<a target=\"_blank\" href=https://colab.research.google.com/notebooks/data_table.ipynb>data table notebook</a>'\n",
              "          + ' to learn more about interactive tables.';\n",
              "        element.innerHTML = '';\n",
              "        dataTable['output_type'] = 'display_data';\n",
              "        await google.colab.output.renderOutput(dataTable, element);\n",
              "        const docLink = document.createElement('div');\n",
              "        docLink.innerHTML = docLinkHtml;\n",
              "        element.appendChild(docLink);\n",
              "      }\n",
              "    </script>\n",
              "  </div>\n",
              "\n",
              "\n",
              "<div id=\"df-45fa96bc-4f87-4778-978d-6fc24674b17e\">\n",
              "  <button class=\"colab-df-quickchart\" onclick=\"quickchart('df-45fa96bc-4f87-4778-978d-6fc24674b17e')\"\n",
              "            title=\"Suggest charts\"\n",
              "            style=\"display:none;\">\n",
              "\n",
              "<svg xmlns=\"http://www.w3.org/2000/svg\" height=\"24px\"viewBox=\"0 0 24 24\"\n",
              "     width=\"24px\">\n",
              "    <g>\n",
              "        <path d=\"M19 3H5c-1.1 0-2 .9-2 2v14c0 1.1.9 2 2 2h14c1.1 0 2-.9 2-2V5c0-1.1-.9-2-2-2zM9 17H7v-7h2v7zm4 0h-2V7h2v10zm4 0h-2v-4h2v4z\"/>\n",
              "    </g>\n",
              "</svg>\n",
              "  </button>\n",
              "\n",
              "<style>\n",
              "  .colab-df-quickchart {\n",
              "      --bg-color: #E8F0FE;\n",
              "      --fill-color: #1967D2;\n",
              "      --hover-bg-color: #E2EBFA;\n",
              "      --hover-fill-color: #174EA6;\n",
              "      --disabled-fill-color: #AAA;\n",
              "      --disabled-bg-color: #DDD;\n",
              "  }\n",
              "\n",
              "  [theme=dark] .colab-df-quickchart {\n",
              "      --bg-color: #3B4455;\n",
              "      --fill-color: #D2E3FC;\n",
              "      --hover-bg-color: #434B5C;\n",
              "      --hover-fill-color: #FFFFFF;\n",
              "      --disabled-bg-color: #3B4455;\n",
              "      --disabled-fill-color: #666;\n",
              "  }\n",
              "\n",
              "  .colab-df-quickchart {\n",
              "    background-color: var(--bg-color);\n",
              "    border: none;\n",
              "    border-radius: 50%;\n",
              "    cursor: pointer;\n",
              "    display: none;\n",
              "    fill: var(--fill-color);\n",
              "    height: 32px;\n",
              "    padding: 0;\n",
              "    width: 32px;\n",
              "  }\n",
              "\n",
              "  .colab-df-quickchart:hover {\n",
              "    background-color: var(--hover-bg-color);\n",
              "    box-shadow: 0 1px 2px rgba(60, 64, 67, 0.3), 0 1px 3px 1px rgba(60, 64, 67, 0.15);\n",
              "    fill: var(--button-hover-fill-color);\n",
              "  }\n",
              "\n",
              "  .colab-df-quickchart-complete:disabled,\n",
              "  .colab-df-quickchart-complete:disabled:hover {\n",
              "    background-color: var(--disabled-bg-color);\n",
              "    fill: var(--disabled-fill-color);\n",
              "    box-shadow: none;\n",
              "  }\n",
              "\n",
              "  .colab-df-spinner {\n",
              "    border: 2px solid var(--fill-color);\n",
              "    border-color: transparent;\n",
              "    border-bottom-color: var(--fill-color);\n",
              "    animation:\n",
              "      spin 1s steps(1) infinite;\n",
              "  }\n",
              "\n",
              "  @keyframes spin {\n",
              "    0% {\n",
              "      border-color: transparent;\n",
              "      border-bottom-color: var(--fill-color);\n",
              "      border-left-color: var(--fill-color);\n",
              "    }\n",
              "    20% {\n",
              "      border-color: transparent;\n",
              "      border-left-color: var(--fill-color);\n",
              "      border-top-color: var(--fill-color);\n",
              "    }\n",
              "    30% {\n",
              "      border-color: transparent;\n",
              "      border-left-color: var(--fill-color);\n",
              "      border-top-color: var(--fill-color);\n",
              "      border-right-color: var(--fill-color);\n",
              "    }\n",
              "    40% {\n",
              "      border-color: transparent;\n",
              "      border-right-color: var(--fill-color);\n",
              "      border-top-color: var(--fill-color);\n",
              "    }\n",
              "    60% {\n",
              "      border-color: transparent;\n",
              "      border-right-color: var(--fill-color);\n",
              "    }\n",
              "    80% {\n",
              "      border-color: transparent;\n",
              "      border-right-color: var(--fill-color);\n",
              "      border-bottom-color: var(--fill-color);\n",
              "    }\n",
              "    90% {\n",
              "      border-color: transparent;\n",
              "      border-bottom-color: var(--fill-color);\n",
              "    }\n",
              "  }\n",
              "</style>\n",
              "\n",
              "  <script>\n",
              "    async function quickchart(key) {\n",
              "      const quickchartButtonEl =\n",
              "        document.querySelector('#' + key + ' button');\n",
              "      quickchartButtonEl.disabled = true;  // To prevent multiple clicks.\n",
              "      quickchartButtonEl.classList.add('colab-df-spinner');\n",
              "      try {\n",
              "        const charts = await google.colab.kernel.invokeFunction(\n",
              "            'suggestCharts', [key], {});\n",
              "      } catch (error) {\n",
              "        console.error('Error during call to suggestCharts:', error);\n",
              "      }\n",
              "      quickchartButtonEl.classList.remove('colab-df-spinner');\n",
              "      quickchartButtonEl.classList.add('colab-df-quickchart-complete');\n",
              "    }\n",
              "    (() => {\n",
              "      let quickchartButtonEl =\n",
              "        document.querySelector('#df-45fa96bc-4f87-4778-978d-6fc24674b17e button');\n",
              "      quickchartButtonEl.style.display =\n",
              "        google.colab.kernel.accessAllowed ? 'block' : 'none';\n",
              "    })();\n",
              "  </script>\n",
              "</div>\n",
              "    </div>\n",
              "  </div>\n"
            ],
            "application/vnd.google.colaboratory.intrinsic+json": {
              "type": "dataframe"
            }
          },
          "metadata": {},
          "execution_count": 12
        }
      ]
    },
    {
      "cell_type": "markdown",
      "source": [
        "#11.日/職/修/進分別有幾所學校?\n"
      ],
      "metadata": {
        "id": "p2uabHUMkiFS"
      }
    },
    {
      "cell_type": "code",
      "source": [
        "new_list=[]\n",
        "df9 = df.drop_duplicates(subset=['學校名稱', '日間∕進修別'])\n",
        "count = df9['日間∕進修別'].value_counts()\n",
        "new_list = list(df['日間∕進修別'].unique())\n",
        "for new in new_list:\n",
        "    print(f\"有{count[new]} 所學校， 有招收{new}。\")\n"
      ],
      "metadata": {
        "colab": {
          "base_uri": "https://localhost:8080/"
        },
        "id": "KK9ie0J2YKyg",
        "outputId": "79718e12-229f-40a5-e4ca-95e74173c985"
      },
      "execution_count": 13,
      "outputs": [
        {
          "output_type": "stream",
          "name": "stdout",
          "text": [
            "有145 所學校， 有招收D 日。\n",
            "有120 所學校， 有招收N 職。\n",
            "有30 所學校， 有招收P 進。\n",
            "有87 所學校， 有招收N 修。\n"
          ]
        }
      ]
    },
    {
      "cell_type": "markdown",
      "source": [
        "# 12.每種主攻方向(如:科技/財經/醫學/設計等)各有幾所大學?\n",
        "\n"
      ],
      "metadata": {
        "id": "QRkYjbMQYMG4"
      }
    },
    {
      "cell_type": "code",
      "source": [
        "way_list=[]\n",
        "\n",
        "for i in df['學校名稱']:\n",
        "    if ('藝術' in i) or ('戲曲' in i) or ('影藝' in i):\n",
        "        way_list.append('藝術')\n",
        "    elif ('教育' in i) or ('師範' in i):\n",
        "        way_list.append('師範')\n",
        "    elif ('醫學' in i) or ('醫事' in i) or ('醫藥' in i) or ('醫護' in i) or ('護理' in i) or ('藥理' in i) or ('健康管理' in i):\n",
        "        way_list.append('醫療')\n",
        "    elif ('財經' in i) or ('金融' in i) or ('商業' in i):\n",
        "        way_list.append('商業')\n",
        "    elif ('海洋' in i):\n",
        "        way_list.append('海洋')\n",
        "    elif ('交通' in i):\n",
        "        way_list.append('交通')\n",
        "    elif ('體育' in i):\n",
        "        way_list.append('體育')\n",
        "    elif ('餐旅' in i):\n",
        "        way_list.append('餐旅')\n",
        "    elif ('外語' in i) or ('文理' in i):\n",
        "        way_list.append('文理')\n",
        "    elif ('科技' in i) or ('技術' in i) or ('設計' in i):\n",
        "        way_list.append('科技')\n",
        "    else:\n",
        "        way_list.append('一般')\n",
        "\n",
        "df['方向'] = way_list\n",
        "df10 = df.drop_duplicates('學校代碼')\n",
        "count = df10['方向'].value_counts()\n",
        "\n",
        "print(f\"本資料集共收集了{len(df10)} 所學校，其中藝術：{count['藝術']} 所；師範：{count['師範']}所；文理：{count['文理']}所；科技：{count['科技']}所；醫療：{count['醫療']}所；商業：{count['商業']}所；海洋：{count['海洋']}所；交通：{count['交通']}所；體育：{count['體育']}所；餐旅：{count['餐旅']}所；一般：{count['一般']}所。\")\n"
      ],
      "metadata": {
        "id": "gHwU_yF1YMiY",
        "colab": {
          "base_uri": "https://localhost:8080/"
        },
        "outputId": "da4c252e-04bf-4d09-d44b-3845b1ca0061"
      },
      "execution_count": 35,
      "outputs": [
        {
          "output_type": "stream",
          "name": "stdout",
          "text": [
            "本資料集共收集了145 所學校，其中藝術：5 所；師範：5所；文理：2所；科技：54所；醫療：21所；商業：3所；海洋：2所；交通：1所；體育：2所；餐旅：1所；一般：49所。\n"
          ]
        }
      ]
    },
    {
      "cell_type": "markdown",
      "source": [
        "#13總計人數超過NNN"
      ],
      "metadata": {
        "id": "LDTEKkUXkcaL"
      }
    },
    {
      "cell_type": "code",
      "source": [
        "count\n",
        "\n",
        ""
      ],
      "metadata": {
        "id": "6FqA2QPBYNUg",
        "colab": {
          "base_uri": "https://localhost:8080/"
        },
        "outputId": "9374fc66-0f16-4f88-eff8-6c3eebdb20d3"
      },
      "execution_count": 25,
      "outputs": [
        {
          "output_type": "execute_result",
          "data": {
            "text/plain": [
              "一般    487\n",
              "科技    180\n",
              "醫療     33\n",
              "師範     20\n",
              "藝術     17\n",
              "體育     10\n",
              "餐旅      8\n",
              "海洋      5\n",
              "交通      4\n",
              "Name: 方向, dtype: int64"
            ]
          },
          "metadata": {},
          "execution_count": 25
        }
      ]
    },
    {
      "cell_type": "code",
      "source": [
        "len(df['學校名稱'])"
      ],
      "metadata": {
        "colab": {
          "base_uri": "https://localhost:8080/"
        },
        "id": "O0xsSYtvbDBZ",
        "outputId": "d62c2c97-77a4-446f-cdc1-6b5daa7ffff4"
      },
      "execution_count": null,
      "outputs": [
        {
          "output_type": "execute_result",
          "data": {
            "text/plain": [
              "764"
            ]
          },
          "metadata": {},
          "execution_count": 26
        }
      ]
    },
    {
      "cell_type": "code",
      "source": [
        "len(df['方向'])"
      ],
      "metadata": {
        "colab": {
          "base_uri": "https://localhost:8080/"
        },
        "id": "N_kwU8MXbgrK",
        "outputId": "2ae17dd3-42c0-4c29-f08e-e884977be241"
      },
      "execution_count": null,
      "outputs": [
        {
          "output_type": "execute_result",
          "data": {
            "text/plain": [
              "764"
            ]
          },
          "metadata": {},
          "execution_count": 27
        }
      ]
    },
    {
      "cell_type": "code",
      "source": [],
      "metadata": {
        "id": "IfTKPIbPbtQK"
      },
      "execution_count": null,
      "outputs": []
    }
  ]
}
